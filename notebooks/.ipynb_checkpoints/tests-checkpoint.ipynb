{
 "cells": [
  {
   "cell_type": "code",
   "execution_count": 3,
   "id": "01b6eeb0",
   "metadata": {},
   "outputs": [],
   "source": [
    "import pandas as pd\n",
    "import sys\n",
    "import numpy as np\n",
    "import geopandas as gpd\n",
    "import fiona\n",
    "fiona.supported_drivers  \n",
    "\n",
    "pd.set_option('display.max_columns', None)\n",
    "sys.path.append('../src')\n",
    "from functions import *"
   ]
  },
  {
   "cell_type": "code",
   "execution_count": 5,
   "id": "aa9b902a",
   "metadata": {},
   "outputs": [],
   "source": [
    "cc = pd.read_csv('../clean_data/countries.csv')\n",
    "rr = pd.read_csv('../clean_data/regions.csv')\n",
    "countries_ggi = pd.read_csv('../clean_data/countries_ggi.csv')\n",
    "government_type = pd.read_csv('../clean_data/government_type.csv')\n",
    "ongoing_conflicts = pd.read_csv('../clean_data/ongoing_conflicts.csv')\n",
    "regions_ggi = pd.read_csv('../clean_data/regions_ggi.csv')\n",
    "countries_footprint = pd.read_csv('../clean_data/countries_footprint.csv')\n",
    "gross_domestic_product_GDP = pd.read_csv('../clean_data/gross_domestic_product_GDP.csv')\n",
    "gross_domestic_product_GDPregions = pd.read_csv('../clean_data/gross_domestic_product_GDPregions.csv')\n",
    "inequality_and_poverty_countries = pd.read_csv('../clean_data/inequality_and_poverty_countries.csv')\n",
    "regions_footprint = pd.read_csv('../clean_data/regions_footprint.csv')\n",
    "world_footprint = pd.read_csv('../clean_data/world_footprint.csv')\n",
    "income_groups_footprint = pd.read_csv('../clean_data/income_groups_footprint.csv')\n",
    "countries_geo = gpd.read_file('../clean_data/countries_geo.geojson')"
   ]
  },
  {
   "cell_type": "code",
   "execution_count": null,
   "id": "6d33a77f",
   "metadata": {},
   "outputs": [],
   "source": []
  }
 ],
 "metadata": {
  "kernelspec": {
   "display_name": "Python 3 (ipykernel)",
   "language": "python",
   "name": "python3"
  },
  "language_info": {
   "codemirror_mode": {
    "name": "ipython",
    "version": 3
   },
   "file_extension": ".py",
   "mimetype": "text/x-python",
   "name": "python",
   "nbconvert_exporter": "python",
   "pygments_lexer": "ipython3",
   "version": "3.10.9"
  }
 },
 "nbformat": 4,
 "nbformat_minor": 5
}
