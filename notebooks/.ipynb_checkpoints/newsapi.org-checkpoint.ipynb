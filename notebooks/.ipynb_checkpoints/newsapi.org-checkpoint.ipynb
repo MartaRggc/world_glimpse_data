{
 "cells": [
  {
   "cell_type": "code",
   "execution_count": null,
   "id": "9b2fb174",
   "metadata": {},
   "outputs": [],
   "source": [
    "import pandas as pd\n",
    "import numpy as np\n",
    "import zipfile\n",
    "import matplotlib.pyplot as plt\n",
    "import seaborn as sns\n",
    "import warnings\n",
    "from newsapi import NewsApiClient\n",
    "\n",
    "pd.set_option('display.max_columns', None)\n",
    "warnings.filterwarnings(\"ignore\")"
   ]
  },
  {
   "cell_type": "markdown",
   "id": "57517125",
   "metadata": {},
   "source": [
    "# Newsapi"
   ]
  },
  {
   "cell_type": "code",
   "execution_count": null,
   "id": "3ff5aaca",
   "metadata": {},
   "outputs": [],
   "source": [
    "newsapi = NewsApiClient(api_key='acade396511c4284bde1a972db2ca181')"
   ]
  },
  {
   "cell_type": "code",
   "execution_count": null,
   "id": "0bb6df00",
   "metadata": {},
   "outputs": [],
   "source": [
    "headlines = newsapi.get_top_headlines(q='bitcoin',\n",
    "                          category='business',\n",
    "                          language='en',\n",
    "                          country='us')"
   ]
  },
  {
   "cell_type": "code",
   "execution_count": null,
   "id": "17208222",
   "metadata": {},
   "outputs": [],
   "source": [
    "headlines['articles'][0]['title']"
   ]
  },
  {
   "cell_type": "code",
   "execution_count": null,
   "id": "67ab6136",
   "metadata": {},
   "outputs": [],
   "source": []
  }
 ],
 "metadata": {
  "kernelspec": {
   "display_name": "Python 3 (ipykernel)",
   "language": "python",
   "name": "python3"
  },
  "language_info": {
   "codemirror_mode": {
    "name": "ipython",
    "version": 3
   },
   "file_extension": ".py",
   "mimetype": "text/x-python",
   "name": "python",
   "nbconvert_exporter": "python",
   "pygments_lexer": "ipython3",
   "version": "3.10.9"
  }
 },
 "nbformat": 4,
 "nbformat_minor": 5
}
